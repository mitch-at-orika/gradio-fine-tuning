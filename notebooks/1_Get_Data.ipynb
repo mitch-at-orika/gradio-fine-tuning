{
 "cells": [
  {
   "cell_type": "markdown",
   "metadata": {},
   "source": [
    "# Get Data\n",
    "\n",
    "This notebook fetches the latest data for Gradio fine-tuning from various sources."
   ]
  },
  {
   "cell_type": "code",
   "execution_count": 2,
   "metadata": {},
   "outputs": [],
   "source": [
    "import os"
   ]
  },
  {
   "cell_type": "code",
   "execution_count": 3,
   "metadata": {},
   "outputs": [],
   "source": [
    "this_dir = os.getcwd()"
   ]
  },
  {
   "cell_type": "code",
   "execution_count": 4,
   "metadata": {},
   "outputs": [],
   "source": [
    "import shutil"
   ]
  },
  {
   "cell_type": "code",
   "execution_count": 40,
   "metadata": {},
   "outputs": [],
   "source": [
    "headers_copy = headers"
   ]
  },
  {
   "cell_type": "code",
   "execution_count": 41,
   "metadata": {},
   "outputs": [],
   "source": [
    "headers = None"
   ]
  },
  {
   "cell_type": "code",
   "execution_count": 38,
   "metadata": {},
   "outputs": [],
   "source": [
    "# headers = {\n",
    "#     \"Authorization\": f\"Bearer {'your_token_here'}\"\n",
    "# }\n",
    "# i got rate limited so had to go get a auth token at https://github.com/settings/tokens but you should be ok to run once without this"
   ]
  },
  {
   "cell_type": "markdown",
   "metadata": {},
   "source": [
    "# get latest gradio repo python code\n",
    "for this I am utilising this [github2file](https://github.com/cognitivecomputations/github2file) repo from the inspirational ehartford "
   ]
  },
  {
   "cell_type": "code",
   "execution_count": 2,
   "metadata": {},
   "outputs": [],
   "source": [
    "os.chdir(this_dir+\"/../../github2file/\") # assumed you cloned that repo next to this one"
   ]
  },
  {
   "cell_type": "code",
   "execution_count": 3,
   "metadata": {},
   "outputs": [
    {
     "name": "stdout",
     "output_type": "stream",
     "text": [
      "https://github.com/gradio-app/gradio/archive/refs/heads/master.zip\n",
      "Combined Python source code saved to gradio_python.txt\n"
     ]
    }
   ],
   "source": [
    "!python github2file.py https://github.com/gradio-app/gradio"
   ]
  },
  {
   "cell_type": "code",
   "execution_count": 5,
   "metadata": {},
   "outputs": [
    {
     "data": {
      "text/plain": [
       "'../gradio-fine-tuning/data/latest-repo/gradio_repo_one_file.txt'"
      ]
     },
     "execution_count": 5,
     "metadata": {},
     "output_type": "execute_result"
    }
   ],
   "source": [
    "shutil.copy(\"gradio_python.txt\", this_dir + \"/../data/latest-repo/gradio_repo_one_file.txt\")"
   ]
  },
  {
   "cell_type": "markdown",
   "metadata": {},
   "source": [
    "# get latest gradio repo docs / guides"
   ]
  },
  {
   "cell_type": "code",
   "execution_count": 4,
   "metadata": {},
   "outputs": [],
   "source": [
    "os.chdir(this_dir+\"/../data/latest-docs/\")"
   ]
  },
  {
   "cell_type": "code",
   "execution_count": 6,
   "metadata": {},
   "outputs": [],
   "source": [
    "import os\n",
    "import requests\n",
    "from urllib.parse import urljoin"
   ]
  },
  {
   "cell_type": "code",
   "execution_count": 26,
   "metadata": {},
   "outputs": [],
   "source": [
    "# Define the base URL for the repository and the sub-directory\n",
    "base_url = 'https://github.com/gradio-app/gradio/'\n",
    "sub_directory = 'main/guides/'\n",
    "\n",
    "# GitHub API base URL for fetching repository contents\n",
    "api_base_url = 'https://api.github.com/repos/gradio-app/gradio/contents/guides'\n",
    "\n",
    "# Directory to save downloaded files\n",
    "save_directory = './'\n",
    "\n",
    "# Create the save directory if it doesn't exist\n",
    "if not os.path.exists(save_directory):\n",
    "    os.makedirs(save_directory)\n",
    "\n",
    "def download_file(file_url, save_path):\n",
    "    response = requests.get(file_url)\n",
    "    if response.status_code == 200:\n",
    "        with open(save_path, 'wb') as file:\n",
    "            file.write(response.content)\n",
    "        print(f\"Downloaded: {save_path}\")\n",
    "    else:\n",
    "        print(f\"Failed to download {file_url}\")\n",
    "\n",
    "def get_files_from_github(api_url,headers):\n",
    "    if headers = None:\n",
    "        response = requests.get(api_url)\n",
    "    else:\n",
    "        response = requests.get(api_url,headers=headers)\n",
    "    if response.status_code == 200:\n",
    "        return response.json()\n",
    "    else:\n",
    "        print(f\"Failed to fetch repository contents: {response.status_code}\")\n",
    "        return []"
   ]
  },
  {
   "cell_type": "code",
   "execution_count": 42,
   "metadata": {},
   "outputs": [],
   "source": [
    "def process_directory(api_url, local_dir,headers=None):\n",
    "    contents = get_files_from_github(api_url,headers)\n",
    "    \n",
    "    for item in contents:\n",
    "        if (item['type'] == 'dir') & (\"cn\" not in item['name']) & (\"assets\" not in item['name']): #ignore the chinese version - gonna finetune in english\n",
    "            # Create a corresponding local directory\n",
    "            new_local_dir = os.path.join(local_dir, item['name'])\n",
    "            if not os.path.exists(new_local_dir):\n",
    "                os.makedirs(new_local_dir)\n",
    "            # Recursively process the sub-directory\n",
    "            process_directory(item['url'], new_local_dir,headers)\n",
    "        elif item['type'] == 'file' and item['name'].endswith('.md'):\n",
    "            # Download the file\n",
    "            download_file(item['download_url'], os.path.join(local_dir, item['name']))\n"
   ]
  },
  {
   "cell_type": "code",
   "execution_count": 46,
   "metadata": {},
   "outputs": [
    {
     "name": "stdout",
     "output_type": "stream",
     "text": [
      "Downloaded: ./01_getting-started/01_quickstart.md\n",
      "Downloaded: ./01_getting-started/02_key-features.md\n",
      "Downloaded: ./02_building-interfaces/00_the-interface-class.md\n",
      "Downloaded: ./02_building-interfaces/01_more-on-examples.md\n",
      "Downloaded: ./02_building-interfaces/02_flagging.md\n",
      "Downloaded: ./02_building-interfaces/03_interface-state.md\n",
      "Downloaded: ./02_building-interfaces/04_reactive-interfaces.md\n",
      "Downloaded: ./02_building-interfaces/05_four-kinds-of-interfaces.md\n",
      "Downloaded: ./03_additional-features/01_queuing.md\n",
      "Downloaded: ./03_additional-features/02_streaming-outputs.md\n",
      "Downloaded: ./03_additional-features/03_alerts.md\n",
      "Downloaded: ./03_additional-features/04_styling.md\n",
      "Downloaded: ./03_additional-features/05_progress_bars.md\n",
      "Downloaded: ./03_additional-features/06_batch-functions.md\n",
      "Downloaded: ./03_additional-features/07_sharing-your-app.md\n",
      "Downloaded: ./04_building-with-blocks/01_blocks-and-event-listeners.md\n",
      "Downloaded: ./04_building-with-blocks/02_controlling-layout.md\n",
      "Downloaded: ./04_building-with-blocks/03_state-in-blocks.md\n",
      "Downloaded: ./04_building-with-blocks/04_dynamic-apps-with-render-decorator.md\n",
      "Downloaded: ./04_building-with-blocks/05_custom-CSS-and-JS.md\n",
      "Downloaded: ./04_building-with-blocks/06_using-blocks-like-functions.md\n",
      "Downloaded: ./05_chatbots/01_creating-a-chatbot-fast.md\n",
      "Downloaded: ./05_chatbots/02_creating-a-custom-chatbot-with-blocks.md\n",
      "Downloaded: ./05_chatbots/03_creating-a-discord-bot-from-a-gradio-app.md\n",
      "Downloaded: ./06_custom-components/01_custom-components-in-five-minutes.md\n",
      "Downloaded: ./06_custom-components/02_key-component-concepts.md\n",
      "Downloaded: ./06_custom-components/03_configuration.md\n",
      "Downloaded: ./06_custom-components/04_backend.md\n",
      "Downloaded: ./06_custom-components/05_frontend.md\n",
      "Downloaded: ./06_custom-components/06_frequently-asked-questions.md\n",
      "Downloaded: ./06_custom-components/07_pdf-component-example.md\n",
      "Downloaded: ./06_custom-components/08_multimodal-chatbot-part1.md\n",
      "Downloaded: ./06_custom-components/09_documenting-custom-components.md\n",
      "Downloaded: ./07_tabular-data-science-and-plots/01_connecting-to-a-database.md\n",
      "Downloaded: ./07_tabular-data-science-and-plots/creating-a-dashboard-from-bigquery-data.md\n",
      "Downloaded: ./07_tabular-data-science-and-plots/creating-a-dashboard-from-supabase-data.md\n",
      "Downloaded: ./07_tabular-data-science-and-plots/creating-a-realtime-dashboard-from-google-sheets.md\n",
      "Downloaded: ./07_tabular-data-science-and-plots/plot-component-for-maps.md\n",
      "Downloaded: ./07_tabular-data-science-and-plots/styling-the-gradio-dataframe.md\n",
      "Downloaded: ./07_tabular-data-science-and-plots/using-gradio-for-tabular-workflows.md\n",
      "Downloaded: ./08_gradio-clients-and-lite/01_getting-started-with-the-python-client.md\n",
      "Downloaded: ./08_gradio-clients-and-lite/02_getting-started-with-the-js-client.md\n",
      "Downloaded: ./08_gradio-clients-and-lite/03_fastapi-app-with-the-gradio-client.md\n",
      "Downloaded: ./08_gradio-clients-and-lite/04_gradio-and-llm-agents.md\n",
      "Downloaded: ./08_gradio-clients-and-lite/05_gradio-lite.md\n",
      "Downloaded: ./08_gradio-clients-and-lite/06_gradio-lite-and-transformers-js.md\n",
      "Downloaded: ./09_other-tutorials/01_using-hugging-face-integrations.md\n",
      "Downloaded: ./09_other-tutorials/Gradio-and-Comet.md\n",
      "Downloaded: ./09_other-tutorials/Gradio-and-ONNX-on-Hugging-Face.md\n",
      "Downloaded: ./09_other-tutorials/Gradio-and-Wandb-Integration.md\n",
      "Downloaded: ./09_other-tutorials/create-your-own-friends-with-a-gan.md\n",
      "Downloaded: ./09_other-tutorials/deploying-gradio-with-docker.md\n",
      "Downloaded: ./09_other-tutorials/developing-faster-with-reload-mode.md\n",
      "Downloaded: ./09_other-tutorials/how-to-use-3D-model-component.md\n",
      "Downloaded: ./09_other-tutorials/image-classification-in-pytorch.md\n",
      "Downloaded: ./09_other-tutorials/image-classification-in-tensorflow.md\n",
      "Downloaded: ./09_other-tutorials/image-classification-with-vision-transformers.md\n",
      "Downloaded: ./09_other-tutorials/installing-gradio-in-a-virtual-environment.md\n",
      "Downloaded: ./09_other-tutorials/named-entity-recognition.md\n",
      "Downloaded: ./09_other-tutorials/real-time-speech-recognition.md\n",
      "Downloaded: ./09_other-tutorials/running-background-tasks.md\n",
      "Downloaded: ./09_other-tutorials/running-gradio-on-your-web-server-with-nginx.md\n",
      "Downloaded: ./09_other-tutorials/setting-up-a-demo-for-maximum-performance.md\n",
      "Downloaded: ./09_other-tutorials/theming-guide.md\n",
      "Downloaded: ./09_other-tutorials/using-flagging.md\n",
      "Downloaded: ./09_other-tutorials/wrapping-layouts.md\n",
      "Downloaded: ./CONTRIBUTING.md\n"
     ]
    }
   ],
   "source": [
    "process_directory(api_base_url, save_directory,headers)"
   ]
  },
  {
   "cell_type": "markdown",
   "metadata": {},
   "source": [
    "# Chat and Existing User Queries\n",
    "### TODO"
   ]
  },
  {
   "cell_type": "code",
   "execution_count": null,
   "metadata": {},
   "outputs": [],
   "source": []
  }
 ],
 "metadata": {
  "kernelspec": {
   "display_name": "Python 3 (ipykernel)",
   "language": "python",
   "name": "python3"
  },
  "language_info": {
   "codemirror_mode": {
    "name": "ipython",
    "version": 3
   },
   "file_extension": ".py",
   "mimetype": "text/x-python",
   "name": "python",
   "nbconvert_exporter": "python",
   "pygments_lexer": "ipython3",
   "version": "3.11.6"
  }
 },
 "nbformat": 4,
 "nbformat_minor": 4
}
