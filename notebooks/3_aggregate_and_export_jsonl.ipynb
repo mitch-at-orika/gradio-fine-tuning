{
 "cells": [
  {
   "cell_type": "code",
   "execution_count": 13,
   "id": "6e976a1b-9954-4153-8ece-bf243eb8b674",
   "metadata": {},
   "outputs": [],
   "source": [
    "import os"
   ]
  },
  {
   "cell_type": "code",
   "execution_count": 14,
   "id": "d7835d94-1494-42cb-97f1-8cf31fbcbf7f",
   "metadata": {},
   "outputs": [],
   "source": [
    "#!pip install fastchat"
   ]
  },
  {
   "cell_type": "code",
   "execution_count": 15,
   "id": "f8c6720c-5ab8-44c5-b5cd-5f7cc055f84e",
   "metadata": {},
   "outputs": [],
   "source": [
    "import csv\n",
    "import json\n",
    "from fastchat.conversation import Conversation, SeparatorStyle\n",
    "import pandas as pd"
   ]
  },
  {
   "cell_type": "code",
   "execution_count": 16,
   "id": "d57f8665-7a68-4284-8aca-3c1201c6b0b6",
   "metadata": {},
   "outputs": [],
   "source": [
    "this_nb_dir = os.getcwd() "
   ]
  },
  {
   "cell_type": "code",
   "execution_count": 17,
   "id": "79f595db-9b99-41a0-9712-f2c708bca27b",
   "metadata": {},
   "outputs": [],
   "source": [
    "from glob import glob"
   ]
  },
  {
   "cell_type": "code",
   "execution_count": 24,
   "id": "600a1e7a-3662-4dd8-b353-105ecb3873e9",
   "metadata": {},
   "outputs": [],
   "source": [
    "import json\n",
    "\n",
    "def read_jsonl(file_path):\n",
    "    \"\"\"Read a JSONL file and return a list of valid JSON objects.\"\"\"\n",
    "    lines = []\n",
    "    with open(file_path, 'r', encoding='utf-8') as file:\n",
    "        for line in file:\n",
    "            try:\n",
    "                lines.append(json.loads(line))\n",
    "            except json.JSONDecodeError as e:\n",
    "                print(f\"Skipping invalid line in {file_path}: {e}\")\n",
    "    return lines\n"
   ]
  },
  {
   "cell_type": "code",
   "execution_count": 25,
   "id": "54c87839-326e-40fb-8fac-2e22324e15bb",
   "metadata": {},
   "outputs": [
    {
     "name": "stdout",
     "output_type": "stream",
     "text": [
      "Skipping invalid line in /mnt/c/users/MitchellBaskerville/code/gradio-fine-tuning/notebooks/../datasets/qa_pairs/opus_doc_qas_306of553.jsonl: Invalid control character at: line 1 column 188 (char 187)\n",
      "Skipping invalid line in /mnt/c/users/MitchellBaskerville/code/gradio-fine-tuning/notebooks/../datasets/qa_pairs/opus_doc_qas_306of553.jsonl: Expecting value: line 2 column 1 (char 1)\n",
      "Skipping invalid line in /mnt/c/users/MitchellBaskerville/code/gradio-fine-tuning/notebooks/../datasets/qa_pairs/opus_doc_qas_306of553.jsonl: Expecting value: line 1 column 1 (char 0)\n",
      "Skipping invalid line in /mnt/c/users/MitchellBaskerville/code/gradio-fine-tuning/notebooks/../datasets/qa_pairs/opus_doc_qas_306of553.jsonl: Expecting value: line 1 column 5 (char 4)\n",
      "Skipping invalid line in /mnt/c/users/MitchellBaskerville/code/gradio-fine-tuning/notebooks/../datasets/qa_pairs/opus_doc_qas_306of553.jsonl: Expecting value: line 1 column 9 (char 8)\n",
      "Skipping invalid line in /mnt/c/users/MitchellBaskerville/code/gradio-fine-tuning/notebooks/../datasets/qa_pairs/opus_doc_qas_306of553.jsonl: Expecting value: line 2 column 1 (char 1)\n",
      "Skipping invalid line in /mnt/c/users/MitchellBaskerville/code/gradio-fine-tuning/notebooks/../datasets/qa_pairs/opus_doc_qas_306of553.jsonl: Expecting value: line 1 column 1 (char 0)\n",
      "Skipping invalid line in /mnt/c/users/MitchellBaskerville/code/gradio-fine-tuning/notebooks/../datasets/qa_pairs/opus_doc_qas_306of553.jsonl: Expecting value: line 1 column 1 (char 0)\n",
      "Skipping invalid line in /mnt/c/users/MitchellBaskerville/code/gradio-fine-tuning/notebooks/../datasets/qa_pairs/opus_doc_qas_306of553.jsonl: Expecting value: line 1 column 1 (char 0)\n",
      "Skipping invalid line in /mnt/c/users/MitchellBaskerville/code/gradio-fine-tuning/notebooks/../datasets/qa_pairs/opus_doc_qas_306of553.jsonl: Invalid control character at: line 1 column 262 (char 261)\n",
      "Skipping invalid line in /mnt/c/users/MitchellBaskerville/code/gradio-fine-tuning/notebooks/../datasets/qa_pairs/opus_doc_qas_306of553.jsonl: Expecting value: line 2 column 1 (char 1)\n",
      "Skipping invalid line in /mnt/c/users/MitchellBaskerville/code/gradio-fine-tuning/notebooks/../datasets/qa_pairs/opus_doc_qas_306of553.jsonl: Expecting value: line 1 column 1 (char 0)\n",
      "Skipping invalid line in /mnt/c/users/MitchellBaskerville/code/gradio-fine-tuning/notebooks/../datasets/qa_pairs/opus_doc_qas_306of553.jsonl: Expecting value: line 1 column 5 (char 4)\n",
      "Skipping invalid line in /mnt/c/users/MitchellBaskerville/code/gradio-fine-tuning/notebooks/../datasets/qa_pairs/opus_doc_qas_306of553.jsonl: Expecting value: line 1 column 9 (char 8)\n",
      "Skipping invalid line in /mnt/c/users/MitchellBaskerville/code/gradio-fine-tuning/notebooks/../datasets/qa_pairs/opus_doc_qas_306of553.jsonl: Expecting value: line 1 column 9 (char 8)\n",
      "Skipping invalid line in /mnt/c/users/MitchellBaskerville/code/gradio-fine-tuning/notebooks/../datasets/qa_pairs/opus_doc_qas_306of553.jsonl: Expecting value: line 1 column 9 (char 8)\n",
      "Skipping invalid line in /mnt/c/users/MitchellBaskerville/code/gradio-fine-tuning/notebooks/../datasets/qa_pairs/opus_doc_qas_306of553.jsonl: Expecting value: line 1 column 5 (char 4)\n",
      "Skipping invalid line in /mnt/c/users/MitchellBaskerville/code/gradio-fine-tuning/notebooks/../datasets/qa_pairs/opus_doc_qas_306of553.jsonl: Expecting value: line 1 column 5 (char 4)\n",
      "Skipping invalid line in /mnt/c/users/MitchellBaskerville/code/gradio-fine-tuning/notebooks/../datasets/qa_pairs/opus_doc_qas_306of553.jsonl: Expecting value: line 2 column 1 (char 1)\n",
      "Skipping invalid line in /mnt/c/users/MitchellBaskerville/code/gradio-fine-tuning/notebooks/../datasets/qa_pairs/opus_doc_qas_306of553.jsonl: Expecting value: line 1 column 1 (char 0)\n",
      "Skipping invalid line in /mnt/c/users/MitchellBaskerville/code/gradio-fine-tuning/notebooks/../datasets/qa_pairs/opus_doc_qas_306of553.jsonl: Expecting value: line 2 column 1 (char 1)\n",
      "Skipping invalid line in /mnt/c/users/MitchellBaskerville/code/gradio-fine-tuning/notebooks/../datasets/qa_pairs/opus_doc_qas_306of553.jsonl: Expecting value: line 1 column 1 (char 0)\n",
      "Skipping invalid line in /mnt/c/users/MitchellBaskerville/code/gradio-fine-tuning/notebooks/../datasets/qa_pairs/opus_doc_qas_306of553.jsonl: Expecting value: line 1 column 1 (char 0)\n",
      "Skipping invalid line in /mnt/c/users/MitchellBaskerville/code/gradio-fine-tuning/notebooks/../datasets/qa_pairs/opus_doc_qas_306of553.jsonl: Expecting value: line 1 column 1 (char 0)\n",
      "Skipping invalid line in /mnt/c/users/MitchellBaskerville/code/gradio-fine-tuning/notebooks/../datasets/qa_pairs/opus_doc_qas_306of553.jsonl: Expecting value: line 1 column 1 (char 0)\n"
     ]
    }
   ],
   "source": [
    "combined_lines = []\n",
    "for file in glob(this_nb_dir+\"/../datasets/qa_pairs/*.jsonl\"):\n",
    "    combined_lines.extend(read_jsonl(file))"
   ]
  },
  {
   "cell_type": "code",
   "execution_count": null,
   "id": "b8df1bdd-ae11-426f-88e9-946a610982c5",
   "metadata": {},
   "outputs": [],
   "source": []
  },
  {
   "cell_type": "code",
   "execution_count": 29,
   "id": "c822da09-e9b7-4bb5-a94d-0086a9644f67",
   "metadata": {},
   "outputs": [],
   "source": [
    "output_json_filepath = os.getcwd() + f'/../datasets/finetune_data.jsonl'"
   ]
  },
  {
   "cell_type": "code",
   "execution_count": 37,
   "id": "b6d63023-fc05-4e05-b9f0-dc641993a5fe",
   "metadata": {},
   "outputs": [
    {
     "data": {
      "text/plain": [
       "'question'"
      ]
     },
     "execution_count": 37,
     "metadata": {},
     "output_type": "execute_result"
    }
   ],
   "source": []
  },
  {
   "cell_type": "code",
   "execution_count": null,
   "id": "eb5e8a2e-d8f8-4ea7-97d2-a42a21d8518c",
   "metadata": {},
   "outputs": [],
   "source": [
    "import pandas as pd\n",
    "import json\n",
    "from fastchat.conversation import Conversation, SeparatorStyle"
   ]
  },
  {
   "cell_type": "code",
   "execution_count": 48,
   "id": "74fb6f8d-e1ba-4e5a-9192-cb6b64aa3852",
   "metadata": {},
   "outputs": [],
   "source": [
    "with open(output_json_filepath, 'w') as jsonl_file:\n",
    "    for line in combined_lines:\n",
    "        # Accessing the instruction and response based on known keys\n",
    "        #instruction = line[\"instruction\"]\n",
    "        #response = line[\"response\"]\n",
    "        instruction, response = line[list(line.keys())[0]],line[list(line.keys())[1]]\n",
    "        conv = Conversation(\n",
    "            name=\"alpaca\",\n",
    "            system_message=\"Below is an instruction that describes a task. Write a response that appropriately completes the request.\",\n",
    "            roles=(\"### Instruction\", \"### Response\"),\n",
    "            sep_style=SeparatorStyle.ADD_COLON_TWO,\n",
    "            sep=\"\\n\\n\",\n",
    "            sep2=\"</s>\",\n",
    "            messages=[]\n",
    "        )\n",
    "        \n",
    "        # Append messages correctly\n",
    "        conv.append_message(\"### Instruction\", instruction)\n",
    "        conv.append_message(\"### Response\", response)\n",
    "        \n",
    "        # Get the prompt from the conversation\n",
    "        prompt = conv.get_prompt()\n",
    "        \n",
    "        # Write the prompt to the JSONL file\n",
    "        json_line = json.dumps({\"prompt\": prompt})\n",
    "        jsonl_file.write(json_line + '\\n')"
   ]
  },
  {
   "cell_type": "code",
   "execution_count": null,
   "id": "6c01d1c6-7156-426c-8f22-62e422db7d10",
   "metadata": {},
   "outputs": [],
   "source": []
  },
  {
   "cell_type": "code",
   "execution_count": null,
   "id": "1244faf6-b5af-468f-96c3-353e29f1f248",
   "metadata": {},
   "outputs": [],
   "source": []
  },
  {
   "cell_type": "code",
   "execution_count": null,
   "id": "c56baa78-5b4e-4718-862e-ec4368c67b38",
   "metadata": {},
   "outputs": [],
   "source": []
  }
 ],
 "metadata": {
  "kernelspec": {
   "display_name": "Python 3 (ipykernel)",
   "language": "python",
   "name": "python3"
  },
  "language_info": {
   "codemirror_mode": {
    "name": "ipython",
    "version": 3
   },
   "file_extension": ".py",
   "mimetype": "text/x-python",
   "name": "python",
   "nbconvert_exporter": "python",
   "pygments_lexer": "ipython3",
   "version": "3.11.6"
  }
 },
 "nbformat": 4,
 "nbformat_minor": 5
}
